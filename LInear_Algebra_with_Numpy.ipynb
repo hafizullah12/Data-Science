{
  "nbformat": 4,
  "nbformat_minor": 0,
  "metadata": {
    "colab": {
      "name": "LInear_Algebra_with_Numpy.ipynb",
      "provenance": [],
      "include_colab_link": true
    },
    "kernelspec": {
      "name": "python3",
      "display_name": "Python 3"
    }
  },
  "cells": [
    {
      "cell_type": "markdown",
      "metadata": {
        "id": "view-in-github",
        "colab_type": "text"
      },
      "source": [
        "<a href=\"https://colab.research.google.com/github/hafizullah12/Data-Science/blob/master/LInear_Algebra_with_Numpy.ipynb\" target=\"_parent\"><img src=\"https://colab.research.google.com/assets/colab-badge.svg\" alt=\"Open In Colab\"/></a>"
      ]
    },
    {
      "cell_type": "code",
      "metadata": {
        "id": "KvZTPXmJyG82",
        "colab_type": "code",
        "colab": {
          "base_uri": "https://localhost:8080/",
          "height": 34
        },
        "outputId": "5494a998-0c4f-432a-e809-9db009df99d7"
      },
      "source": [
        "#import numpy \n",
        "import numpy as np \n",
        "# Declaring Vectors(one Dimension List)\n",
        "x = [1, 2, 3]\n",
        "y = [4, 5, 6]\n",
        "\n",
        "print(type(x))\n",
        "\n"
      ],
      "execution_count": 2,
      "outputs": [
        {
          "output_type": "stream",
          "text": [
            "<class 'list'>\n"
          ],
          "name": "stdout"
        }
      ]
    },
    {
      "cell_type": "code",
      "metadata": {
        "id": "Lb5vX1fhyZQ1",
        "colab_type": "code",
        "colab": {
          "base_uri": "https://localhost:8080/",
          "height": 34
        },
        "outputId": "5a75219a-9c8e-44f8-b454-b93b002f9a34"
      },
      "source": [
        "# This does'nt give the vector addition.\n",
        "print(x + y)\n",
        "\n"
      ],
      "execution_count": 4,
      "outputs": [
        {
          "output_type": "stream",
          "text": [
            "[1, 2, 3, 4, 5, 6]\n"
          ],
          "name": "stdout"
        }
      ]
    },
    {
      "cell_type": "code",
      "metadata": {
        "id": "fQe3KTBIyeS5",
        "colab_type": "code",
        "colab": {
          "base_uri": "https://localhost:8080/",
          "height": 51
        },
        "outputId": "f32f6188-23e3-46e4-dc09-406aa43cf0f0"
      },
      "source": [
        "# Vector addition using Numpy\n",
        "\n",
        "z = np.add(x, y)\n",
        "print(z)\n",
        "print(type(z))\n",
        "\n"
      ],
      "execution_count": 6,
      "outputs": [
        {
          "output_type": "stream",
          "text": [
            "[5 7 9]\n",
            "<class 'numpy.ndarray'>\n"
          ],
          "name": "stdout"
        }
      ]
    },
    {
      "cell_type": "code",
      "metadata": {
        "id": "tJxqfmcByiVb",
        "colab_type": "code",
        "colab": {
          "base_uri": "https://localhost:8080/",
          "height": 34
        },
        "outputId": "774bbd21-ef49-4b94-8178-a7e96a502a8d"
      },
      "source": [
        "# Vector Cross Product\n",
        "mul = np.cross(x, y)\n",
        "print(mul)"
      ],
      "execution_count": 7,
      "outputs": [
        {
          "output_type": "stream",
          "text": [
            "[-3  6 -3]\n"
          ],
          "name": "stdout"
        }
      ]
    },
    {
      "cell_type": "code",
      "metadata": {
        "id": "EGbWuf4ayjf_",
        "colab_type": "code",
        "colab": {
          "base_uri": "https://localhost:8080/",
          "height": 68
        },
        "outputId": "8d0c5f29-02a3-4208-e4ae-811f2f0864cf"
      },
      "source": [
        "#Vector Dot Product \n",
        "x = np.array([1, 2, 3, 4])\n",
        "y = np.array([5, 6, 7, 8])\n",
        "print(\"x:\", x)\n",
        "print(\"y:\", y)\n",
        "np.dot(x, y)    \n"
      ],
      "execution_count": 9,
      "outputs": [
        {
          "output_type": "stream",
          "text": [
            "x: [1 2 3 4]\n",
            "y: [5 6 7 8]\n"
          ],
          "name": "stdout"
        },
        {
          "output_type": "execute_result",
          "data": {
            "text/plain": [
              "70"
            ]
          },
          "metadata": {
            "tags": []
          },
          "execution_count": 9
        }
      ]
    },
    {
      "cell_type": "code",
      "metadata": {
        "id": "wdQonfLhy6tE",
        "colab_type": "code",
        "colab": {
          "base_uri": "https://localhost:8080/",
          "height": 289
        },
        "outputId": "fdfde917-5df7-4ead-a051-312f23263b67"
      },
      "source": [
        "#Vector Transpose\n",
        "print(\"x:\", x)\n",
        "x.shape = (4, 1)\n",
        "print(\"xT:\", x)\n",
        "print(\"y:\", y)\n",
        "y.shape = (4, 1)\n",
        "print(\"yT:\", y)\n"
      ],
      "execution_count": 11,
      "outputs": [
        {
          "output_type": "stream",
          "text": [
            "x: [[1]\n",
            " [2]\n",
            " [3]\n",
            " [4]]\n",
            "xT: [[1]\n",
            " [2]\n",
            " [3]\n",
            " [4]]\n",
            "y: [[5]\n",
            " [6]\n",
            " [7]\n",
            " [8]]\n",
            "yT: [[5]\n",
            " [6]\n",
            " [7]\n",
            " [8]]\n"
          ],
          "name": "stdout"
        }
      ]
    },
    {
      "cell_type": "markdown",
      "metadata": {
        "id": "alI_zbHt0mtn",
        "colab_type": "text"
      },
      "source": [
        "### Matrix"
      ]
    },
    {
      "cell_type": "code",
      "metadata": {
        "id": "VTwI21bG0pyQ",
        "colab_type": "code",
        "colab": {}
      },
      "source": [
        "#initialize matrix\n",
        "x = np.array([[1, 2], [4, 5]]) \n",
        "y = np.array([[7, 8], [9, 10]])\n"
      ],
      "execution_count": 0,
      "outputs": []
    },
    {
      "cell_type": "code",
      "metadata": {
        "id": "ZpC7SE-Q0yzm",
        "colab_type": "code",
        "colab": {
          "base_uri": "https://localhost:8080/",
          "height": 68
        },
        "outputId": "28716ed4-11f9-40ea-e8c0-5c94e9fcb67a"
      },
      "source": [
        "#using add() to add matrices \n",
        "print (\"The element wise addition of matrix is : \") \n",
        "print (np.add(x,y)) \n"
      ],
      "execution_count": 19,
      "outputs": [
        {
          "output_type": "stream",
          "text": [
            "The element wise addition of matrix is : \n",
            "[[ 8 10]\n",
            " [13 15]]\n"
          ],
          "name": "stdout"
        }
      ]
    },
    {
      "cell_type": "code",
      "metadata": {
        "id": "8I58Mep2056x",
        "colab_type": "code",
        "colab": {
          "base_uri": "https://localhost:8080/",
          "height": 68
        },
        "outputId": "576d7084-d3ed-45b7-8595-a84d95e670b3"
      },
      "source": [
        "#using subtract() to subtract matrices \n",
        "print (\"The element wise subtraction of matrix is : \") \n",
        "print (np.subtract(x,y)) \n"
      ],
      "execution_count": 21,
      "outputs": [
        {
          "output_type": "stream",
          "text": [
            "The element wise subtraction of matrix is : \n",
            "[[-6 -6]\n",
            " [-5 -5]]\n"
          ],
          "name": "stdout"
        }
      ]
    },
    {
      "cell_type": "code",
      "metadata": {
        "id": "XhmyKmdb1AaH",
        "colab_type": "code",
        "colab": {
          "base_uri": "https://localhost:8080/",
          "height": 68
        },
        "outputId": "e7f8ecb2-5e20-4570-b4f1-5c5111bae1e9"
      },
      "source": [
        "# using multiply() to multiply matrices element wise \n",
        "print (\"The element wise multiplication of matrix is : \") \n",
        "print (np.multiply(x,y))\n"
      ],
      "execution_count": 23,
      "outputs": [
        {
          "output_type": "stream",
          "text": [
            "The element wise multiplication of matrix is : \n",
            "[[ 7 16]\n",
            " [36 50]]\n"
          ],
          "name": "stdout"
        }
      ]
    },
    {
      "cell_type": "code",
      "metadata": {
        "id": "tdjOZZnJ1L25",
        "colab_type": "code",
        "colab": {
          "base_uri": "https://localhost:8080/",
          "height": 68
        },
        "outputId": "50584e55-e263-4901-b855-b4c0846ca59b"
      },
      "source": [
        "# using divide() to divide matrices \n",
        "print (\"The element wise division of matrix is : \") \n",
        "print (np.divide(x,y)) \n"
      ],
      "execution_count": 24,
      "outputs": [
        {
          "output_type": "stream",
          "text": [
            "The element wise division of matrix is : \n",
            "[[0.14285714 0.25      ]\n",
            " [0.44444444 0.5       ]]\n"
          ],
          "name": "stdout"
        }
      ]
    },
    {
      "cell_type": "code",
      "metadata": {
        "id": "r2CDQ41H1NIQ",
        "colab_type": "code",
        "colab": {
          "base_uri": "https://localhost:8080/",
          "height": 68
        },
        "outputId": "281918c1-eb99-4d5a-f42d-7242186c9638"
      },
      "source": [
        "# using matmul() to divide matrices \n",
        "print (\"Matrix Multiplication: \") \n",
        "print (np.matmul(x,y))\n",
        "\n"
      ],
      "execution_count": 29,
      "outputs": [
        {
          "output_type": "stream",
          "text": [
            "Matrix Multiplication: \n",
            "[[25 28]\n",
            " [73 82]]\n"
          ],
          "name": "stdout"
        }
      ]
    },
    {
      "cell_type": "code",
      "metadata": {
        "id": "3HlNYVEz49SV",
        "colab_type": "code",
        "colab": {
          "base_uri": "https://localhost:8080/",
          "height": 68
        },
        "outputId": "13e2c825-278f-4cc3-bf12-c77f0447eef9"
      },
      "source": [
        "#Identity Matrix  \n",
        "np.identity(3)"
      ],
      "execution_count": 31,
      "outputs": [
        {
          "output_type": "execute_result",
          "data": {
            "text/plain": [
              "array([[1., 0., 0.],\n",
              "       [0., 1., 0.],\n",
              "       [0., 0., 1.]])"
            ]
          },
          "metadata": {
            "tags": []
          },
          "execution_count": 31
        }
      ]
    },
    {
      "cell_type": "code",
      "metadata": {
        "id": "9RSkKE8E5Hsn",
        "colab_type": "code",
        "colab": {
          "base_uri": "https://localhost:8080/",
          "height": 85
        },
        "outputId": "32f0b8f0-5034-4b02-a323-1f7e999ac361"
      },
      "source": [
        "#inverse Matrix\n",
        "x = np.array([[1,2],[3,4]]) \n",
        "y = np.linalg.inv(x) \n",
        "print(x) \n",
        "print(y)\n"
      ],
      "execution_count": 34,
      "outputs": [
        {
          "output_type": "stream",
          "text": [
            "[[1 2]\n",
            " [3 4]]\n",
            "[[-2.   1. ]\n",
            " [ 1.5 -0.5]]\n"
          ],
          "name": "stdout"
        }
      ]
    },
    {
      "cell_type": "code",
      "metadata": {
        "id": "1sae2RdT6HJb",
        "colab_type": "code",
        "colab": {
          "base_uri": "https://localhost:8080/",
          "height": 51
        },
        "outputId": "85234c6b-23bc-4a4e-9f52-bdefbfb56e43"
      },
      "source": [
        "#Transpose Matrix \n",
        "a = np.array([[1, 2], [3, 4]])\n",
        "a.transpose()"
      ],
      "execution_count": 41,
      "outputs": [
        {
          "output_type": "execute_result",
          "data": {
            "text/plain": [
              "array([[1, 3],\n",
              "       [2, 4]])"
            ]
          },
          "metadata": {
            "tags": []
          },
          "execution_count": 41
        }
      ]
    },
    {
      "cell_type": "code",
      "metadata": {
        "id": "ErAMwhqC6l77",
        "colab_type": "code",
        "colab": {}
      },
      "source": [
        ""
      ],
      "execution_count": 0,
      "outputs": []
    }
  ]
}